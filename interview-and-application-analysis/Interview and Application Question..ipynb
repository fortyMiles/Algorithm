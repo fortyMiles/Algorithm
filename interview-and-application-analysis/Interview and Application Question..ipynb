{
 "cells": [
  {
   "cell_type": "markdown",
   "metadata": {},
   "source": [
    "# Interview and Application with Union-Find"
   ]
  },
  {
   "cell_type": "markdown",
   "metadata": {},
   "source": [
    "#### Social network connectivity. \n",
    "\n",
    "Given a social network containing n members and a log file containing m timestamps at which times pairs of members formed friendships, design an algorithm to determine the earliest time at which all members are connected (i.e., every member is a friend of a friend of a friend ... of a friend). Assume that the log file is sorted by timestamp and that friendship is an equivalence relation. The running time of your algorithm should be mlogn or better and use extra space proportional to n.\n",
    "\n",
    "**Solution**: \n",
    "\n",
    "1. We need to know how many users the system have, and the number marked as N. \n",
    "2. we use the union-find algorithm and count the components numbers. When the components number become 1, we count the number of this component, test if the number equals to N. \n",
    "\n",
    "#### Union-find with specific canonical element.\n",
    "\n",
    "Add a method 𝚏𝚒𝚗𝚍() to the union-find data type so that 𝚏𝚒𝚗𝚍(𝚒) returns the largest element in the connected component containing i. The operations, 𝚞𝚗𝚒𝚘𝚗(), 𝚌𝚘𝚗𝚗𝚎𝚌𝚝𝚎𝚍(), and 𝚏𝚒𝚗𝚍() should all take logarithmic time or better.\n",
    "\n",
    "For example, if one of the connected components is {1,2,6,9}, then the 𝚏𝚒𝚗𝚍() method should return 9 for each of the four elements in the connected components.\n",
    "\n",
    "**Solution**: When we take the union method,  if the p's root is smaller than q's root, we should exchange the root. After the approach, we could keep the root as the largest in this component. \n",
    "\n",
    "Find() method we just need to return the root of this element. \n",
    "\n",
    "Or. Maintain an extra array to the weighted quick-union that stores for each root i the large element in the connected component containing i. \n",
    "\n",
    "#### Successor with delete. \n",
    "\n",
    "Given a set of N integers S={0,1,...,N−1} and a sequence of requests of the following form:\n",
    "\n",
    "* Remove x from S\n",
    "* Find the successor of x: the smallest y in S such that y≥x.\n",
    "design a data type so that all operations (except construction) should take logarithmic time or better.\n",
    "\n",
    "**Solution**: \n",
    "\n",
    "![Solution[]"
   ]
  }
 ],
 "metadata": {
  "kernelspec": {
   "display_name": "Python 2",
   "language": "python",
   "name": "python2"
  },
  "language_info": {
   "codemirror_mode": {
    "name": "ipython",
    "version": 2
   },
   "file_extension": ".py",
   "mimetype": "text/x-python",
   "name": "python",
   "nbconvert_exporter": "python",
   "pygments_lexer": "ipython2",
   "version": "2.7.10"
  }
 },
 "nbformat": 4,
 "nbformat_minor": 1
}

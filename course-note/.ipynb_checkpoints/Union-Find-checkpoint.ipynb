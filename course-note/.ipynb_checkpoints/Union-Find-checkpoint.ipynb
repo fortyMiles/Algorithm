{
 "cells": [
  {
   "cell_type": "markdown",
   "metadata": {},
   "source": [
    "# Week 1"
   ]
  },
  {
   "cell_type": "markdown",
   "metadata": {},
   "source": [
    "#### Become a proficient programmer. "
   ]
  },
  {
   "cell_type": "markdown",
   "metadata": {},
   "source": [
    "\"*Bad programmers worry about the code, Good programmers worry about data structures and their relationships. *\"\n",
    "\n",
    " -- Linus Torvalds"
   ]
  },
  {
   "cell_type": "markdown",
   "metadata": {},
   "source": [
    "#### They may unlock the secrets of life and of the universe. \n",
    "\n",
    "Computational models are replacing math models in scientific inquiy. \n"
   ]
  },
  {
   "cell_type": "markdown",
   "metadata": {},
   "source": [
    "### Union-Find Problem "
   ]
  },
  {
   "cell_type": "markdown",
   "metadata": {},
   "source": [
    "  "
   ]
  },
  {
   "cell_type": "markdown",
   "metadata": {},
   "source": [
    "#### Steps of developing a usable algorithm. \n",
    "\n",
    "+ **Model the problem. **\n",
    "    \n",
    "    define what the key element need to solve. \n",
    "    \n",
    "+ **Find an algorithm to solve it **\n",
    "\n",
    "+ **Fast Enough? Fits in memory? **\n",
    "\n",
    "+ **If not, figure out why**\n",
    "\n",
    "+ **Find a way to address the problem**\n",
    "\n",
    "+ **Iterable until satisfied**\n",
    "    \n",
    "\n"
   ]
  },
  {
   "cell_type": "markdown",
   "metadata": {},
   "source": [
    "#### *dynamical connectivity problem*\n",
    "\n",
    "![Problem](pic1.png)"
   ]
  },
  {
   "cell_type": "markdown",
   "metadata": {},
   "source": [
    "#### Modeling the connection\n",
    "\n",
    "We assume \"is connected to\" is an equivalence relation: \n",
    "\n",
    "* Reflexiable: *p* is connected to *p*. \n",
    "* Symmetric: if *p* is connected to *q*, *q* is connected to *p*. \n",
    "* Transitive: if *p* is connected to *q*, and *q* is connected to *r*, then *p* is connected to *r*. \n",
    "\n",
    "#### Connected components. \n",
    "\n",
    "Maximal *set* of objects that are mutually connected.\n",
    "\n",
    "**{0} {1 4 5} {2 3 6 7}**\n",
    "\n",
    "> If we **union(2, 5)**\n",
    "\n",
    "**{0} {1 4 5 2 3 6 7}**\n"
   ]
  },
  {
   "cell_type": "markdown",
   "metadata": {},
   "source": [
    "Analyse:\n",
    "\n",
    "(), (), (), () into component. \n",
    "\n",
    "search p, q if in component."
   ]
  },
  {
   "cell_type": "markdown",
   "metadata": {},
   "source": [
    "#### Naive Approach"
   ]
  },
  {
   "cell_type": "code",
   "execution_count": 84,
   "metadata": {
    "collapsed": false
   },
   "outputs": [
    {
     "name": "stdout",
     "output_type": "stream",
     "text": [
      "test done\n"
     ]
    }
   ],
   "source": [
    "def collect(p, q, s=None):\n",
    "    '''add point @param p and point @param q into the set @param s'''\n",
    "    s = s or set()\n",
    "    s.add(p)\n",
    "    s.add(q)\n",
    "    return s\n",
    "\n",
    "def union(p, q, sets=[]):\n",
    "    \n",
    "    p_in = filter(lambda s: p in s, sets)\n",
    "    q_in = filter(lambda s: q in s, sets)\n",
    "    \n",
    "    if len(p_in) > 0 and len(q_in) > 0:\n",
    "        p_in = p_in[0]\n",
    "        q_in = q_in[0]\n",
    "        \n",
    "        index = sets.index(p_in)\n",
    "        p_in = p_in.union(q_in)\n",
    "        sets[index] = p_in\n",
    "        sets.remove(q_in)       \n",
    "    elif len(p_in) == 0 and len(q_in) == 0:\n",
    "        sets.append(collect(p, q))\n",
    "    else:\n",
    "        p_in.extend(q_in)   ## one of them is not None, given not None to s\n",
    "        p_in = p_in[0]\n",
    "        sets[sets.index(p_in)] = collect(p, q, p_in)\n",
    "        \n",
    "    return sets\n",
    "\n",
    "def in_component(p, q, all_components):\n",
    "    return ((p in c and q in c) for c in all_components)\n",
    "    \n",
    "def find(p, q, sets):\n",
    "    return any(in_component(p, q, sets))\n",
    "    \n",
    "def test():\n",
    "    sets = []\n",
    "    sets = union(1, 2)\n",
    "    assert(sets == [{1, 2}])\n",
    "    \n",
    "    sets = union(3, 4, sets)\n",
    "    assert(sets == [{1, 2}, {3, 4}])\n",
    "    \n",
    "    sets = union(5, 6, sets)\n",
    "    assert(sets == [{1, 2}, {3, 4}, {5, 6}])\n",
    "    \n",
    "    sets = union(6, 7, sets)\n",
    "    assert(sets == [{1, 2}, {3, 4}, {5, 6, 7}])\n",
    "    \n",
    "    sets = union(3, 5, sets)\n",
    "    assert(sets == [{1, 2}, {3, 4, 5, 6, 7}])\n",
    "    \n",
    "    components = [{1, 2}, {3, 4}]\n",
    "    assert(next(in_component(1, 2, components)) == True)\n",
    "    assert(next(in_component(3, 2, components)) == False)\n",
    "    \n",
    "    assert(find(1, 2, sets)==True)\n",
    "    assert(find(1, 1, sets)==True)\n",
    "    assert(find(1, 3, sets)==False)\n",
    "    assert(find(5, 7, sets)==True)\n",
    "    \n",
    "    print('test done')\n",
    "test()"
   ]
  },
  {
   "cell_type": "markdown",
   "metadata": {},
   "source": [
    "#### Comment\n",
    "\n",
    "This approach is eager or naive simulate. "
   ]
  },
  {
   "cell_type": "code",
   "execution_count": null,
   "metadata": {
    "collapsed": true
   },
   "outputs": [],
   "source": [
    "test()"
   ]
  }
 ],
 "metadata": {
  "kernelspec": {
   "display_name": "Python 2",
   "language": "python",
   "name": "python2"
  },
  "language_info": {
   "codemirror_mode": {
    "name": "ipython",
    "version": 2
   },
   "file_extension": ".py",
   "mimetype": "text/x-python",
   "name": "python",
   "nbconvert_exporter": "python",
   "pygments_lexer": "ipython2",
   "version": "2.7.10"
  }
 },
 "nbformat": 4,
 "nbformat_minor": 1
}
